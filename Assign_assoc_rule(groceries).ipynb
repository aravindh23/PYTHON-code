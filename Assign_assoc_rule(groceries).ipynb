{
 "cells": [
  {
   "cell_type": "code",
   "execution_count": 11,
   "metadata": {},
   "outputs": [],
   "source": [
    "import pandas as pd\n",
    "import matplotlib.pyplot as plt\n",
    "from mlxtend.frequent_patterns import apriori,association_rules\n",
    "from mlxtend.preprocessing import TransactionEncoder\n",
    "from collections import Counter"
   ]
  },
  {
   "cell_type": "code",
   "execution_count": null,
   "metadata": {},
   "outputs": [],
   "source": [
    "#This data set is transaction data so we read it directly "
   ]
  },
  {
   "cell_type": "code",
   "execution_count": 2,
   "metadata": {},
   "outputs": [],
   "source": [
    "with open(\"C:/Users/ARAVINDH/Downloads/groceries.csv\") as f:\n",
    "    groceries = f.read()"
   ]
  },
  {
   "cell_type": "code",
   "execution_count": null,
   "metadata": {},
   "outputs": [],
   "source": [
    "#Splitting the data into separate transactions"
   ]
  },
  {
   "cell_type": "code",
   "execution_count": 3,
   "metadata": {},
   "outputs": [],
   "source": [
    "groceries = groceries.split(\"\\n\")"
   ]
  },
  {
   "cell_type": "code",
   "execution_count": 4,
   "metadata": {},
   "outputs": [],
   "source": [
    "groceries_list = []\n",
    "for i in groceries:\n",
    "    groceries_list.append(i.split(\",\"))"
   ]
  },
  {
   "cell_type": "code",
   "execution_count": 5,
   "metadata": {},
   "outputs": [],
   "source": [
    "all_groceries_list=[]"
   ]
  },
  {
   "cell_type": "code",
   "execution_count": null,
   "metadata": {},
   "outputs": [],
   "source": [
    "#groceries_list"
   ]
  },
  {
   "cell_type": "code",
   "execution_count": 6,
   "metadata": {},
   "outputs": [],
   "source": [
    "all_groceries_list=[i for item in groceries_list for i in item]"
   ]
  },
  {
   "cell_type": "code",
   "execution_count": 7,
   "metadata": {},
   "outputs": [],
   "source": [
    "item_frequencies=Counter(all_groceries_list)"
   ]
  },
  {
   "cell_type": "code",
   "execution_count": null,
   "metadata": {},
   "outputs": [],
   "source": [
    "# Sorting"
   ]
  },
  {
   "cell_type": "code",
   "execution_count": 8,
   "metadata": {},
   "outputs": [],
   "source": [
    "item_frequencies = sorted(item_frequencies.items(),key = lambda x:x[1])"
   ]
  },
  {
   "cell_type": "code",
   "execution_count": 9,
   "metadata": {},
   "outputs": [],
   "source": [
    "frequencies = list(reversed([i[1] for i in item_frequencies]))\n",
    "items = list(reversed([i[0] for i in item_frequencies]))"
   ]
  },
  {
   "cell_type": "code",
   "execution_count": null,
   "metadata": {},
   "outputs": [],
   "source": [
    "#bar plot"
   ]
  },
  {
   "cell_type": "code",
   "execution_count": 12,
   "metadata": {},
   "outputs": [
    {
     "name": "stderr",
     "output_type": "stream",
     "text": [
      "<ipython-input-12-de657ff7c7b5>:1: MatplotlibDeprecationWarning: Using a string of single character colors as a color sequence is deprecated since 3.2 and will be removed two minor releases later. Use an explicit list instead.\n",
      "  plt.bar(height = frequencies[0:11],x = list(range(0,11)),color='rgbkymc');plt.xticks(list(range(0,11),),items[0:11]);plt.xlabel(\"items\")\n"
     ]
    },
    {
     "data": {
      "text/plain": [
       "Text(0, 0.5, 'Count')"
      ]
     },
     "execution_count": 12,
     "metadata": {},
     "output_type": "execute_result"
    },
    {
     "data": {
      "image/png": "[encoded data removed]",
      "text/plain": [
       "<Figure size 432x288 with 1 Axes>"
      ]
     },
     "metadata": {
      "needs_background": "light"
     },
     "output_type": "display_data"
    }
   ],
   "source": [
    "plt.bar(height = frequencies[0:11],x = list(range(0,11)),color='rgbkymc');plt.xticks(list(range(0,11),),items[0:11]);plt.xlabel(\"items\")\n",
    "plt.ylabel(\"Count\")"
   ]
  },
  {
   "cell_type": "code",
   "execution_count": 13,
   "metadata": {},
   "outputs": [],
   "source": [
    "#converting all list into Series object"
   ]
  },
  {
   "cell_type": "code",
   "execution_count": 15,
   "metadata": {},
   "outputs": [],
   "source": [
    "groceries_series=pd.DataFrame(pd.Series(groceries_list))"
   ]
  },
  {
   "cell_type": "code",
   "execution_count": 16,
   "metadata": {},
   "outputs": [],
   "source": [
    "groceries_series=groceries_series.iloc[:9835,:] "
   ]
  },
  {
   "cell_type": "code",
   "execution_count": 18,
   "metadata": {},
   "outputs": [],
   "source": [
    "groceries_series.columns=[\"transactions\"]"
   ]
  },
  {
   "cell_type": "code",
   "execution_count": null,
   "metadata": {},
   "outputs": [],
   "source": [
    "#Creating a dummy variable for the each item in each transactions"
   ]
  },
  {
   "cell_type": "code",
   "execution_count": 19,
   "metadata": {},
   "outputs": [],
   "source": [
    "x=groceries_series['transactions'].str.join(sep='*').str.get_dummies(sep='*')"
   ]
  },
  {
   "cell_type": "code",
   "execution_count": 21,
   "metadata": {},
   "outputs": [],
   "source": [
    "frequent_itemsets=apriori(x, min_support=0.005, max_len=3,use_colnames = True)"
   ]
  },
  {
   "cell_type": "code",
   "execution_count": 22,
   "metadata": {},
   "outputs": [
    {
     "data": {
      "text/plain": [
       "(989, 2)"
      ]
     },
     "execution_count": 22,
     "metadata": {},
     "output_type": "execute_result"
    }
   ],
   "source": [
    "frequent_itemsets.shape"
   ]
  },
  {
   "cell_type": "code",
   "execution_count": null,
   "metadata": {},
   "outputs": [],
   "source": [
    "#Most Frequent item\n",
    "#Using support value"
   ]
  },
  {
   "cell_type": "code",
   "execution_count": 23,
   "metadata": {},
   "outputs": [],
   "source": [
    "frequent_itemsets.sort_values('support',ascending = False,inplace=True)"
   ]
  },
  {
   "cell_type": "code",
   "execution_count": 50,
   "metadata": {},
   "outputs": [
    {
     "name": "stderr",
     "output_type": "stream",
     "text": [
      "<ipython-input-50-bd22bb4f3a12>:1: MatplotlibDeprecationWarning: Using a string of single character colors as a color sequence is deprecated since 3.2 and will be removed two minor releases later. Use an explicit list instead.\n",
      "  plt.bar(x = list(range(1,11)),height = frequent_itemsets.support[1:11],color='rgb');plt.xticks(list(range(1,11)),frequent_itemsets.itemsets[1:11])\n"
     ]
    },
    {
     "data": {
      "text/plain": [
       "Text(0, 0.5, 'support')"
      ]
     },
     "execution_count": 50,
     "metadata": {},
     "output_type": "execute_result"
    },
    {
     "data": {
      "image/png": "[encoded data removed]",
      "text/plain": [
       "<Figure size 432x288 with 1 Axes>"
      ]
     },
     "metadata": {
      "needs_background": "light"
     },
     "output_type": "display_data"
    }
   ],
   "source": [
    "plt.bar(x = list(range(1,11)),height = frequent_itemsets.support[1:11],color='rgb');plt.xticks(list(range(1,11)),frequent_itemsets.itemsets[1:11])\n",
    "plt.xlabel('item-sets');plt.ylabel('support')"
   ]
  },
  {
   "cell_type": "code",
   "execution_count": null,
   "metadata": {},
   "outputs": [],
   "source": [
    "#Rules"
   ]
  },
  {
   "cell_type": "code",
   "execution_count": 25,
   "metadata": {},
   "outputs": [
    {
     "data": {
      "text/plain": [
       "(2700, 9)"
      ]
     },
     "execution_count": 25,
     "metadata": {},
     "output_type": "execute_result"
    }
   ],
   "source": [
    "rules=association_rules(frequent_itemsets, metric=\"lift\", min_threshold=1)\n",
    "rules.shape"
   ]
  },
  {
   "cell_type": "code",
   "execution_count": 28,
   "metadata": {},
   "outputs": [
    {
     "data": {
      "text/html": [
       "<div>\n",
       "<style scoped>\n",
       "    .dataframe tbody tr th:only-of-type {\n",
       "        vertical-align: middle;\n",
       "    }\n",
       "\n",
       "    .dataframe tbody tr th {\n",
       "        vertical-align: top;\n",
       "    }\n",
       "\n",
       "    .dataframe thead th {\n",
       "        text-align: right;\n",
       "    }\n",
       "</style>\n",
       "<table border=\"1\" class=\"dataframe\">\n",
       "  <thead>\n",
       "    <tr style=\"text-align: right;\">\n",
       "      <th></th>\n",
       "      <th>antecedents</th>\n",
       "      <th>consequents</th>\n",
       "      <th>antecedent support</th>\n",
       "      <th>consequent support</th>\n",
       "      <th>support</th>\n",
       "      <th>confidence</th>\n",
       "      <th>lift</th>\n",
       "      <th>leverage</th>\n",
       "      <th>conviction</th>\n",
       "    </tr>\n",
       "  </thead>\n",
       "  <tbody>\n",
       "    <tr>\n",
       "      <th>0</th>\n",
       "      <td>(whole milk)</td>\n",
       "      <td>(other vegetables)</td>\n",
       "      <td>0.255516</td>\n",
       "      <td>0.193493</td>\n",
       "      <td>0.074835</td>\n",
       "      <td>0.292877</td>\n",
       "      <td>1.513634</td>\n",
       "      <td>0.025394</td>\n",
       "      <td>1.140548</td>\n",
       "    </tr>\n",
       "    <tr>\n",
       "      <th>1</th>\n",
       "      <td>(other vegetables)</td>\n",
       "      <td>(whole milk)</td>\n",
       "      <td>0.193493</td>\n",
       "      <td>0.255516</td>\n",
       "      <td>0.074835</td>\n",
       "      <td>0.386758</td>\n",
       "      <td>1.513634</td>\n",
       "      <td>0.025394</td>\n",
       "      <td>1.214013</td>\n",
       "    </tr>\n",
       "    <tr>\n",
       "      <th>2</th>\n",
       "      <td>(whole milk)</td>\n",
       "      <td>(rolls/buns)</td>\n",
       "      <td>0.255516</td>\n",
       "      <td>0.183935</td>\n",
       "      <td>0.056634</td>\n",
       "      <td>0.221647</td>\n",
       "      <td>1.205032</td>\n",
       "      <td>0.009636</td>\n",
       "      <td>1.048452</td>\n",
       "    </tr>\n",
       "    <tr>\n",
       "      <th>3</th>\n",
       "      <td>(rolls/buns)</td>\n",
       "      <td>(whole milk)</td>\n",
       "      <td>0.183935</td>\n",
       "      <td>0.255516</td>\n",
       "      <td>0.056634</td>\n",
       "      <td>0.307905</td>\n",
       "      <td>1.205032</td>\n",
       "      <td>0.009636</td>\n",
       "      <td>1.075696</td>\n",
       "    </tr>\n",
       "    <tr>\n",
       "      <th>4</th>\n",
       "      <td>(whole milk)</td>\n",
       "      <td>(yogurt)</td>\n",
       "      <td>0.255516</td>\n",
       "      <td>0.139502</td>\n",
       "      <td>0.056024</td>\n",
       "      <td>0.219260</td>\n",
       "      <td>1.571735</td>\n",
       "      <td>0.020379</td>\n",
       "      <td>1.102157</td>\n",
       "    </tr>\n",
       "  </tbody>\n",
       "</table>\n",
       "</div>"
      ],
      "text/plain": [
       "          antecedents         consequents  antecedent support  \\\n",
       "0        (whole milk)  (other vegetables)            0.255516   \n",
       "1  (other vegetables)        (whole milk)            0.193493   \n",
       "2        (whole milk)        (rolls/buns)            0.255516   \n",
       "3        (rolls/buns)        (whole milk)            0.183935   \n",
       "4        (whole milk)            (yogurt)            0.255516   \n",
       "\n",
       "   consequent support   support  confidence      lift  leverage  conviction  \n",
       "0            0.193493  0.074835    0.292877  1.513634  0.025394    1.140548  \n",
       "1            0.255516  0.074835    0.386758  1.513634  0.025394    1.214013  \n",
       "2            0.183935  0.056634    0.221647  1.205032  0.009636    1.048452  \n",
       "3            0.255516  0.056634    0.307905  1.205032  0.009636    1.075696  \n",
       "4            0.139502  0.056024    0.219260  1.571735  0.020379    1.102157  "
      ]
     },
     "execution_count": 28,
     "metadata": {},
     "output_type": "execute_result"
    }
   ],
   "source": [
    "rules.head()"
   ]
  },
  {
   "cell_type": "code",
   "execution_count": 29,
   "metadata": {},
   "outputs": [
    {
     "data": {
      "text/html": [
       "<div>\n",
       "<style scoped>\n",
       "    .dataframe tbody tr th:only-of-type {\n",
       "        vertical-align: middle;\n",
       "    }\n",
       "\n",
       "    .dataframe tbody tr th {\n",
       "        vertical-align: top;\n",
       "    }\n",
       "\n",
       "    .dataframe thead th {\n",
       "        text-align: right;\n",
       "    }\n",
       "</style>\n",
       "<table border=\"1\" class=\"dataframe\">\n",
       "  <thead>\n",
       "    <tr style=\"text-align: right;\">\n",
       "      <th></th>\n",
       "      <th>antecedents</th>\n",
       "      <th>consequents</th>\n",
       "      <th>antecedent support</th>\n",
       "      <th>consequent support</th>\n",
       "      <th>support</th>\n",
       "      <th>confidence</th>\n",
       "      <th>lift</th>\n",
       "      <th>leverage</th>\n",
       "      <th>conviction</th>\n",
       "    </tr>\n",
       "  </thead>\n",
       "  <tbody>\n",
       "    <tr>\n",
       "      <th>2695</th>\n",
       "      <td>(frankfurter)</td>\n",
       "      <td>(coffee)</td>\n",
       "      <td>0.058973</td>\n",
       "      <td>0.058058</td>\n",
       "      <td>0.005084</td>\n",
       "      <td>0.086207</td>\n",
       "      <td>1.484842</td>\n",
       "      <td>0.001660</td>\n",
       "      <td>1.030805</td>\n",
       "    </tr>\n",
       "    <tr>\n",
       "      <th>2696</th>\n",
       "      <td>(cream cheese )</td>\n",
       "      <td>(curd)</td>\n",
       "      <td>0.039654</td>\n",
       "      <td>0.053279</td>\n",
       "      <td>0.005084</td>\n",
       "      <td>0.128205</td>\n",
       "      <td>2.406293</td>\n",
       "      <td>0.002971</td>\n",
       "      <td>1.085945</td>\n",
       "    </tr>\n",
       "    <tr>\n",
       "      <th>2697</th>\n",
       "      <td>(curd)</td>\n",
       "      <td>(cream cheese )</td>\n",
       "      <td>0.053279</td>\n",
       "      <td>0.039654</td>\n",
       "      <td>0.005084</td>\n",
       "      <td>0.095420</td>\n",
       "      <td>2.406293</td>\n",
       "      <td>0.002971</td>\n",
       "      <td>1.061648</td>\n",
       "    </tr>\n",
       "    <tr>\n",
       "      <th>2698</th>\n",
       "      <td>(other vegetables)</td>\n",
       "      <td>(canned fish)</td>\n",
       "      <td>0.193493</td>\n",
       "      <td>0.015048</td>\n",
       "      <td>0.005084</td>\n",
       "      <td>0.026274</td>\n",
       "      <td>1.745998</td>\n",
       "      <td>0.002172</td>\n",
       "      <td>1.011529</td>\n",
       "    </tr>\n",
       "    <tr>\n",
       "      <th>2699</th>\n",
       "      <td>(canned fish)</td>\n",
       "      <td>(other vegetables)</td>\n",
       "      <td>0.015048</td>\n",
       "      <td>0.193493</td>\n",
       "      <td>0.005084</td>\n",
       "      <td>0.337838</td>\n",
       "      <td>1.745998</td>\n",
       "      <td>0.002172</td>\n",
       "      <td>1.217991</td>\n",
       "    </tr>\n",
       "  </tbody>\n",
       "</table>\n",
       "</div>"
      ],
      "text/plain": [
       "             antecedents         consequents  antecedent support  \\\n",
       "2695       (frankfurter)            (coffee)            0.058973   \n",
       "2696     (cream cheese )              (curd)            0.039654   \n",
       "2697              (curd)     (cream cheese )            0.053279   \n",
       "2698  (other vegetables)       (canned fish)            0.193493   \n",
       "2699       (canned fish)  (other vegetables)            0.015048   \n",
       "\n",
       "      consequent support   support  confidence      lift  leverage  conviction  \n",
       "2695            0.058058  0.005084    0.086207  1.484842  0.001660    1.030805  \n",
       "2696            0.053279  0.005084    0.128205  2.406293  0.002971    1.085945  \n",
       "2697            0.039654  0.005084    0.095420  2.406293  0.002971    1.061648  \n",
       "2698            0.015048  0.005084    0.026274  1.745998  0.002172    1.011529  \n",
       "2699            0.193493  0.005084    0.337838  1.745998  0.002172    1.217991  "
      ]
     },
     "execution_count": 29,
     "metadata": {},
     "output_type": "execute_result"
    }
   ],
   "source": [
    "rules.tail()"
   ]
  },
  {
   "cell_type": "code",
   "execution_count": 30,
   "metadata": {},
   "outputs": [],
   "source": [
    "rules.sort_values('lift',ascending = False,inplace=True)"
   ]
  },
  {
   "cell_type": "code",
   "execution_count": 31,
   "metadata": {},
   "outputs": [
    {
     "data": {
      "text/html": [
       "<div>\n",
       "<style scoped>\n",
       "    .dataframe tbody tr th:only-of-type {\n",
       "        vertical-align: middle;\n",
       "    }\n",
       "\n",
       "    .dataframe tbody tr th {\n",
       "        vertical-align: top;\n",
       "    }\n",
       "\n",
       "    .dataframe thead th {\n",
       "        text-align: right;\n",
       "    }\n",
       "</style>\n",
       "<table border=\"1\" class=\"dataframe\">\n",
       "  <thead>\n",
       "    <tr style=\"text-align: right;\">\n",
       "      <th></th>\n",
       "      <th>antecedents</th>\n",
       "      <th>consequents</th>\n",
       "      <th>antecedent support</th>\n",
       "      <th>consequent support</th>\n",
       "      <th>support</th>\n",
       "      <th>confidence</th>\n",
       "      <th>lift</th>\n",
       "      <th>leverage</th>\n",
       "      <th>conviction</th>\n",
       "    </tr>\n",
       "  </thead>\n",
       "  <tbody>\n",
       "    <tr>\n",
       "      <th>2558</th>\n",
       "      <td>(ham)</td>\n",
       "      <td>(white bread)</td>\n",
       "      <td>0.026029</td>\n",
       "      <td>0.042095</td>\n",
       "      <td>0.005084</td>\n",
       "      <td>0.195312</td>\n",
       "      <td>4.639851</td>\n",
       "      <td>3.988184e-03</td>\n",
       "      <td>1.190407</td>\n",
       "    </tr>\n",
       "    <tr>\n",
       "      <th>2559</th>\n",
       "      <td>(white bread)</td>\n",
       "      <td>(ham)</td>\n",
       "      <td>0.042095</td>\n",
       "      <td>0.026029</td>\n",
       "      <td>0.005084</td>\n",
       "      <td>0.120773</td>\n",
       "      <td>4.639851</td>\n",
       "      <td>3.988184e-03</td>\n",
       "      <td>1.107758</td>\n",
       "    </tr>\n",
       "    <tr>\n",
       "      <th>2021</th>\n",
       "      <td>(whipped/sour cream)</td>\n",
       "      <td>(other vegetables, butter)</td>\n",
       "      <td>0.071683</td>\n",
       "      <td>0.020031</td>\n",
       "      <td>0.005796</td>\n",
       "      <td>0.080851</td>\n",
       "      <td>4.036397</td>\n",
       "      <td>4.359786e-03</td>\n",
       "      <td>1.066171</td>\n",
       "    </tr>\n",
       "    <tr>\n",
       "      <th>2020</th>\n",
       "      <td>(other vegetables, butter)</td>\n",
       "      <td>(whipped/sour cream)</td>\n",
       "      <td>0.020031</td>\n",
       "      <td>0.071683</td>\n",
       "      <td>0.005796</td>\n",
       "      <td>0.289340</td>\n",
       "      <td>4.036397</td>\n",
       "      <td>4.359786e-03</td>\n",
       "      <td>1.306275</td>\n",
       "    </tr>\n",
       "    <tr>\n",
       "      <th>1313</th>\n",
       "      <td>(root vegetables)</td>\n",
       "      <td>(herbs)</td>\n",
       "      <td>0.108998</td>\n",
       "      <td>0.016268</td>\n",
       "      <td>0.007016</td>\n",
       "      <td>0.064366</td>\n",
       "      <td>3.956477</td>\n",
       "      <td>5.242526e-03</td>\n",
       "      <td>1.051406</td>\n",
       "    </tr>\n",
       "    <tr>\n",
       "      <th>...</th>\n",
       "      <td>...</td>\n",
       "      <td>...</td>\n",
       "      <td>...</td>\n",
       "      <td>...</td>\n",
       "      <td>...</td>\n",
       "      <td>...</td>\n",
       "      <td>...</td>\n",
       "      <td>...</td>\n",
       "      <td>...</td>\n",
       "    </tr>\n",
       "    <tr>\n",
       "      <th>467</th>\n",
       "      <td>(bottled water)</td>\n",
       "      <td>(shopping bags)</td>\n",
       "      <td>0.110524</td>\n",
       "      <td>0.098526</td>\n",
       "      <td>0.010981</td>\n",
       "      <td>0.099356</td>\n",
       "      <td>1.008428</td>\n",
       "      <td>9.177354e-05</td>\n",
       "      <td>1.000922</td>\n",
       "    </tr>\n",
       "    <tr>\n",
       "      <th>275</th>\n",
       "      <td>(pip fruit)</td>\n",
       "      <td>(rolls/buns)</td>\n",
       "      <td>0.075648</td>\n",
       "      <td>0.183935</td>\n",
       "      <td>0.013930</td>\n",
       "      <td>0.184140</td>\n",
       "      <td>1.001114</td>\n",
       "      <td>1.549719e-05</td>\n",
       "      <td>1.000251</td>\n",
       "    </tr>\n",
       "    <tr>\n",
       "      <th>274</th>\n",
       "      <td>(rolls/buns)</td>\n",
       "      <td>(pip fruit)</td>\n",
       "      <td>0.183935</td>\n",
       "      <td>0.075648</td>\n",
       "      <td>0.013930</td>\n",
       "      <td>0.075732</td>\n",
       "      <td>1.001114</td>\n",
       "      <td>1.549719e-05</td>\n",
       "      <td>1.000091</td>\n",
       "    </tr>\n",
       "    <tr>\n",
       "      <th>2177</th>\n",
       "      <td>(specialty chocolate)</td>\n",
       "      <td>(rolls/buns)</td>\n",
       "      <td>0.030402</td>\n",
       "      <td>0.183935</td>\n",
       "      <td>0.005592</td>\n",
       "      <td>0.183946</td>\n",
       "      <td>1.000063</td>\n",
       "      <td>3.515039e-07</td>\n",
       "      <td>1.000014</td>\n",
       "    </tr>\n",
       "    <tr>\n",
       "      <th>2176</th>\n",
       "      <td>(rolls/buns)</td>\n",
       "      <td>(specialty chocolate)</td>\n",
       "      <td>0.183935</td>\n",
       "      <td>0.030402</td>\n",
       "      <td>0.005592</td>\n",
       "      <td>0.030404</td>\n",
       "      <td>1.000063</td>\n",
       "      <td>3.515039e-07</td>\n",
       "      <td>1.000002</td>\n",
       "    </tr>\n",
       "  </tbody>\n",
       "</table>\n",
       "<p>2700 rows × 9 columns</p>\n",
       "</div>"
      ],
      "text/plain": [
       "                     antecedents                 consequents  \\\n",
       "2558                       (ham)               (white bread)   \n",
       "2559               (white bread)                       (ham)   \n",
       "2021        (whipped/sour cream)  (other vegetables, butter)   \n",
       "2020  (other vegetables, butter)        (whipped/sour cream)   \n",
       "1313           (root vegetables)                     (herbs)   \n",
       "...                          ...                         ...   \n",
       "467              (bottled water)             (shopping bags)   \n",
       "275                  (pip fruit)                (rolls/buns)   \n",
       "274                 (rolls/buns)                 (pip fruit)   \n",
       "2177       (specialty chocolate)                (rolls/buns)   \n",
       "2176                (rolls/buns)       (specialty chocolate)   \n",
       "\n",
       "      antecedent support  consequent support   support  confidence      lift  \\\n",
       "2558            0.026029            0.042095  0.005084    0.195312  4.639851   \n",
       "2559            0.042095            0.026029  0.005084    0.120773  4.639851   \n",
       "2021            0.071683            0.020031  0.005796    0.080851  4.036397   \n",
       "2020            0.020031            0.071683  0.005796    0.289340  4.036397   \n",
       "1313            0.108998            0.016268  0.007016    0.064366  3.956477   \n",
       "...                  ...                 ...       ...         ...       ...   \n",
       "467             0.110524            0.098526  0.010981    0.099356  1.008428   \n",
       "275             0.075648            0.183935  0.013930    0.184140  1.001114   \n",
       "274             0.183935            0.075648  0.013930    0.075732  1.001114   \n",
       "2177            0.030402            0.183935  0.005592    0.183946  1.000063   \n",
       "2176            0.183935            0.030402  0.005592    0.030404  1.000063   \n",
       "\n",
       "          leverage  conviction  \n",
       "2558  3.988184e-03    1.190407  \n",
       "2559  3.988184e-03    1.107758  \n",
       "2021  4.359786e-03    1.066171  \n",
       "2020  4.359786e-03    1.306275  \n",
       "1313  5.242526e-03    1.051406  \n",
       "...            ...         ...  \n",
       "467   9.177354e-05    1.000922  \n",
       "275   1.549719e-05    1.000251  \n",
       "274   1.549719e-05    1.000091  \n",
       "2177  3.515039e-07    1.000014  \n",
       "2176  3.515039e-07    1.000002  \n",
       "\n",
       "[2700 rows x 9 columns]"
      ]
     },
     "execution_count": 31,
     "metadata": {},
     "output_type": "execute_result"
    }
   ],
   "source": [
    "rules   #Sorting rules by maximum Lift ratio"
   ]
  },
  {
   "cell_type": "code",
   "execution_count": null,
   "metadata": {},
   "outputs": [],
   "source": [
    "#Eliminate Repeated Rules "
   ]
  },
  {
   "cell_type": "code",
   "execution_count": 32,
   "metadata": {},
   "outputs": [],
   "source": [
    "def to_list(i):\n",
    "    return (sorted(list(i)))"
   ]
  },
  {
   "cell_type": "code",
   "execution_count": 33,
   "metadata": {},
   "outputs": [],
   "source": [
    "ma_X=rules.antecedents.apply(to_list)+rules.consequents.apply(to_list)"
   ]
  },
  {
   "cell_type": "code",
   "execution_count": 34,
   "metadata": {},
   "outputs": [],
   "source": [
    "ma_X = ma_X.apply(sorted)"
   ]
  },
  {
   "cell_type": "code",
   "execution_count": 35,
   "metadata": {},
   "outputs": [],
   "source": [
    "rules_sets=list(ma_X)"
   ]
  },
  {
   "cell_type": "code",
   "execution_count": null,
   "metadata": {},
   "outputs": [],
   "source": [
    "#Unique Rules"
   ]
  },
  {
   "cell_type": "code",
   "execution_count": 36,
   "metadata": {},
   "outputs": [],
   "source": [
    "unique_rules_sets=[list(m) for m in set(tuple(i) for i in rules_sets)]"
   ]
  },
  {
   "cell_type": "code",
   "execution_count": 37,
   "metadata": {},
   "outputs": [],
   "source": [
    "index_rules = []\n",
    "for i in unique_rules_sets:\n",
    "    index_rules.append(rules_sets.index(i))"
   ]
  },
  {
   "cell_type": "code",
   "execution_count": 38,
   "metadata": {},
   "outputs": [],
   "source": [
    "rules=rules.iloc[index_rules,:]"
   ]
  },
  {
   "cell_type": "code",
   "execution_count": 39,
   "metadata": {},
   "outputs": [
    {
     "data": {
      "text/html": [
       "<div>\n",
       "<style scoped>\n",
       "    .dataframe tbody tr th:only-of-type {\n",
       "        vertical-align: middle;\n",
       "    }\n",
       "\n",
       "    .dataframe tbody tr th {\n",
       "        vertical-align: top;\n",
       "    }\n",
       "\n",
       "    .dataframe thead th {\n",
       "        text-align: right;\n",
       "    }\n",
       "</style>\n",
       "<table border=\"1\" class=\"dataframe\">\n",
       "  <thead>\n",
       "    <tr style=\"text-align: right;\">\n",
       "      <th></th>\n",
       "      <th>antecedents</th>\n",
       "      <th>consequents</th>\n",
       "      <th>antecedent support</th>\n",
       "      <th>consequent support</th>\n",
       "      <th>support</th>\n",
       "      <th>confidence</th>\n",
       "      <th>lift</th>\n",
       "      <th>leverage</th>\n",
       "      <th>conviction</th>\n",
       "    </tr>\n",
       "  </thead>\n",
       "  <tbody>\n",
       "    <tr>\n",
       "      <th>278</th>\n",
       "      <td>(soda)</td>\n",
       "      <td>(canned beer)</td>\n",
       "      <td>0.174377</td>\n",
       "      <td>0.077682</td>\n",
       "      <td>0.013828</td>\n",
       "      <td>0.079300</td>\n",
       "      <td>1.020836</td>\n",
       "      <td>0.000282</td>\n",
       "      <td>1.001758</td>\n",
       "    </tr>\n",
       "    <tr>\n",
       "      <th>972</th>\n",
       "      <td>(yogurt, root vegetables)</td>\n",
       "      <td>(tropical fruit)</td>\n",
       "      <td>0.025826</td>\n",
       "      <td>0.104931</td>\n",
       "      <td>0.008134</td>\n",
       "      <td>0.314961</td>\n",
       "      <td>3.001587</td>\n",
       "      <td>0.005424</td>\n",
       "      <td>1.306594</td>\n",
       "    </tr>\n",
       "    <tr>\n",
       "      <th>1593</th>\n",
       "      <td>(cream cheese )</td>\n",
       "      <td>(whipped/sour cream)</td>\n",
       "      <td>0.039654</td>\n",
       "      <td>0.071683</td>\n",
       "      <td>0.006406</td>\n",
       "      <td>0.161538</td>\n",
       "      <td>2.253519</td>\n",
       "      <td>0.003563</td>\n",
       "      <td>1.107167</td>\n",
       "    </tr>\n",
       "    <tr>\n",
       "      <th>527</th>\n",
       "      <td>(other vegetables)</td>\n",
       "      <td>(fruit/vegetable juice, whole milk)</td>\n",
       "      <td>0.193493</td>\n",
       "      <td>0.026640</td>\n",
       "      <td>0.010473</td>\n",
       "      <td>0.054125</td>\n",
       "      <td>2.031756</td>\n",
       "      <td>0.005318</td>\n",
       "      <td>1.029058</td>\n",
       "    </tr>\n",
       "    <tr>\n",
       "      <th>258</th>\n",
       "      <td>(root vegetables)</td>\n",
       "      <td>(domestic eggs)</td>\n",
       "      <td>0.108998</td>\n",
       "      <td>0.063447</td>\n",
       "      <td>0.014337</td>\n",
       "      <td>0.131530</td>\n",
       "      <td>2.073071</td>\n",
       "      <td>0.007421</td>\n",
       "      <td>1.078394</td>\n",
       "    </tr>\n",
       "    <tr>\n",
       "      <th>...</th>\n",
       "      <td>...</td>\n",
       "      <td>...</td>\n",
       "      <td>...</td>\n",
       "      <td>...</td>\n",
       "      <td>...</td>\n",
       "      <td>...</td>\n",
       "      <td>...</td>\n",
       "      <td>...</td>\n",
       "      <td>...</td>\n",
       "    </tr>\n",
       "    <tr>\n",
       "      <th>1870</th>\n",
       "      <td>(whole milk, domestic eggs)</td>\n",
       "      <td>(butter)</td>\n",
       "      <td>0.029995</td>\n",
       "      <td>0.055414</td>\n",
       "      <td>0.005999</td>\n",
       "      <td>0.200000</td>\n",
       "      <td>3.609174</td>\n",
       "      <td>0.004337</td>\n",
       "      <td>1.180732</td>\n",
       "    </tr>\n",
       "    <tr>\n",
       "      <th>188</th>\n",
       "      <td>(bottled beer)</td>\n",
       "      <td>(soda)</td>\n",
       "      <td>0.080529</td>\n",
       "      <td>0.174377</td>\n",
       "      <td>0.016980</td>\n",
       "      <td>0.210859</td>\n",
       "      <td>1.209209</td>\n",
       "      <td>0.002938</td>\n",
       "      <td>1.046229</td>\n",
       "    </tr>\n",
       "    <tr>\n",
       "      <th>668</th>\n",
       "      <td>(fruit/vegetable juice)</td>\n",
       "      <td>(pip fruit)</td>\n",
       "      <td>0.072293</td>\n",
       "      <td>0.075648</td>\n",
       "      <td>0.009558</td>\n",
       "      <td>0.132208</td>\n",
       "      <td>1.747671</td>\n",
       "      <td>0.004089</td>\n",
       "      <td>1.065177</td>\n",
       "    </tr>\n",
       "    <tr>\n",
       "      <th>940</th>\n",
       "      <td>(yogurt)</td>\n",
       "      <td>(fruit/vegetable juice, other vegetables)</td>\n",
       "      <td>0.139502</td>\n",
       "      <td>0.021047</td>\n",
       "      <td>0.008236</td>\n",
       "      <td>0.059038</td>\n",
       "      <td>2.805013</td>\n",
       "      <td>0.005300</td>\n",
       "      <td>1.040374</td>\n",
       "    </tr>\n",
       "    <tr>\n",
       "      <th>91</th>\n",
       "      <td>(whole milk, other vegetables)</td>\n",
       "      <td>(yogurt)</td>\n",
       "      <td>0.074835</td>\n",
       "      <td>0.139502</td>\n",
       "      <td>0.022267</td>\n",
       "      <td>0.297554</td>\n",
       "      <td>2.132979</td>\n",
       "      <td>0.011828</td>\n",
       "      <td>1.225003</td>\n",
       "    </tr>\n",
       "  </tbody>\n",
       "</table>\n",
       "<p>830 rows × 9 columns</p>\n",
       "</div>"
      ],
      "text/plain": [
       "                         antecedents  \\\n",
       "278                           (soda)   \n",
       "972        (yogurt, root vegetables)   \n",
       "1593                 (cream cheese )   \n",
       "527               (other vegetables)   \n",
       "258                (root vegetables)   \n",
       "...                              ...   \n",
       "1870     (whole milk, domestic eggs)   \n",
       "188                   (bottled beer)   \n",
       "668          (fruit/vegetable juice)   \n",
       "940                         (yogurt)   \n",
       "91    (whole milk, other vegetables)   \n",
       "\n",
       "                                    consequents  antecedent support  \\\n",
       "278                               (canned beer)            0.174377   \n",
       "972                            (tropical fruit)            0.025826   \n",
       "1593                       (whipped/sour cream)            0.039654   \n",
       "527         (fruit/vegetable juice, whole milk)            0.193493   \n",
       "258                             (domestic eggs)            0.108998   \n",
       "...                                         ...                 ...   \n",
       "1870                                   (butter)            0.029995   \n",
       "188                                      (soda)            0.080529   \n",
       "668                                 (pip fruit)            0.072293   \n",
       "940   (fruit/vegetable juice, other vegetables)            0.139502   \n",
       "91                                     (yogurt)            0.074835   \n",
       "\n",
       "      consequent support   support  confidence      lift  leverage  conviction  \n",
       "278             0.077682  0.013828    0.079300  1.020836  0.000282    1.001758  \n",
       "972             0.104931  0.008134    0.314961  3.001587  0.005424    1.306594  \n",
       "1593            0.071683  0.006406    0.161538  2.253519  0.003563    1.107167  \n",
       "527             0.026640  0.010473    0.054125  2.031756  0.005318    1.029058  \n",
       "258             0.063447  0.014337    0.131530  2.073071  0.007421    1.078394  \n",
       "...                  ...       ...         ...       ...       ...         ...  \n",
       "1870            0.055414  0.005999    0.200000  3.609174  0.004337    1.180732  \n",
       "188             0.174377  0.016980    0.210859  1.209209  0.002938    1.046229  \n",
       "668             0.075648  0.009558    0.132208  1.747671  0.004089    1.065177  \n",
       "940             0.021047  0.008236    0.059038  2.805013  0.005300    1.040374  \n",
       "91              0.139502  0.022267    0.297554  2.132979  0.011828    1.225003  \n",
       "\n",
       "[830 rows x 9 columns]"
      ]
     },
     "execution_count": 39,
     "metadata": {},
     "output_type": "execute_result"
    }
   ],
   "source": [
    "rules"
   ]
  },
  {
   "cell_type": "code",
   "execution_count": null,
   "metadata": {},
   "outputs": [],
   "source": [
    "#Sorting rules by Lift-ratio"
   ]
  },
  {
   "cell_type": "code",
   "execution_count": 46,
   "metadata": {},
   "outputs": [],
   "source": [
    "final_rules=rules.sort_values('lift',ascending=False)"
   ]
  },
  {
   "cell_type": "code",
   "execution_count": 47,
   "metadata": {},
   "outputs": [
    {
     "data": {
      "text/html": [
       "<div>\n",
       "<style scoped>\n",
       "    .dataframe tbody tr th:only-of-type {\n",
       "        vertical-align: middle;\n",
       "    }\n",
       "\n",
       "    .dataframe tbody tr th {\n",
       "        vertical-align: top;\n",
       "    }\n",
       "\n",
       "    .dataframe thead th {\n",
       "        text-align: right;\n",
       "    }\n",
       "</style>\n",
       "<table border=\"1\" class=\"dataframe\">\n",
       "  <thead>\n",
       "    <tr style=\"text-align: right;\">\n",
       "      <th></th>\n",
       "      <th>antecedents</th>\n",
       "      <th>consequents</th>\n",
       "      <th>antecedent support</th>\n",
       "      <th>consequent support</th>\n",
       "      <th>support</th>\n",
       "      <th>confidence</th>\n",
       "      <th>lift</th>\n",
       "      <th>leverage</th>\n",
       "      <th>conviction</th>\n",
       "    </tr>\n",
       "  </thead>\n",
       "  <tbody>\n",
       "    <tr>\n",
       "      <th>2558</th>\n",
       "      <td>(ham)</td>\n",
       "      <td>(white bread)</td>\n",
       "      <td>0.026029</td>\n",
       "      <td>0.042095</td>\n",
       "      <td>0.005084</td>\n",
       "      <td>0.195312</td>\n",
       "      <td>4.639851</td>\n",
       "      <td>0.003988</td>\n",
       "      <td>1.190407</td>\n",
       "    </tr>\n",
       "    <tr>\n",
       "      <th>2021</th>\n",
       "      <td>(whipped/sour cream)</td>\n",
       "      <td>(other vegetables, butter)</td>\n",
       "      <td>0.071683</td>\n",
       "      <td>0.020031</td>\n",
       "      <td>0.005796</td>\n",
       "      <td>0.080851</td>\n",
       "      <td>4.036397</td>\n",
       "      <td>0.004360</td>\n",
       "      <td>1.066171</td>\n",
       "    </tr>\n",
       "    <tr>\n",
       "      <th>1313</th>\n",
       "      <td>(root vegetables)</td>\n",
       "      <td>(herbs)</td>\n",
       "      <td>0.108998</td>\n",
       "      <td>0.016268</td>\n",
       "      <td>0.007016</td>\n",
       "      <td>0.064366</td>\n",
       "      <td>3.956477</td>\n",
       "      <td>0.005243</td>\n",
       "      <td>1.051406</td>\n",
       "    </tr>\n",
       "    <tr>\n",
       "      <th>2042</th>\n",
       "      <td>(root vegetables, other vegetables)</td>\n",
       "      <td>(onions)</td>\n",
       "      <td>0.047382</td>\n",
       "      <td>0.031012</td>\n",
       "      <td>0.005694</td>\n",
       "      <td>0.120172</td>\n",
       "      <td>3.875044</td>\n",
       "      <td>0.004225</td>\n",
       "      <td>1.101338</td>\n",
       "    </tr>\n",
       "    <tr>\n",
       "      <th>2206</th>\n",
       "      <td>(tropical fruit)</td>\n",
       "      <td>(citrus fruit, pip fruit)</td>\n",
       "      <td>0.104931</td>\n",
       "      <td>0.013828</td>\n",
       "      <td>0.005592</td>\n",
       "      <td>0.053295</td>\n",
       "      <td>3.854060</td>\n",
       "      <td>0.004141</td>\n",
       "      <td>1.041688</td>\n",
       "    </tr>\n",
       "  </tbody>\n",
       "</table>\n",
       "</div>"
      ],
      "text/plain": [
       "                              antecedents                 consequents  \\\n",
       "2558                                (ham)               (white bread)   \n",
       "2021                 (whipped/sour cream)  (other vegetables, butter)   \n",
       "1313                    (root vegetables)                     (herbs)   \n",
       "2042  (root vegetables, other vegetables)                    (onions)   \n",
       "2206                     (tropical fruit)   (citrus fruit, pip fruit)   \n",
       "\n",
       "      antecedent support  consequent support   support  confidence      lift  \\\n",
       "2558            0.026029            0.042095  0.005084    0.195312  4.639851   \n",
       "2021            0.071683            0.020031  0.005796    0.080851  4.036397   \n",
       "1313            0.108998            0.016268  0.007016    0.064366  3.956477   \n",
       "2042            0.047382            0.031012  0.005694    0.120172  3.875044   \n",
       "2206            0.104931            0.013828  0.005592    0.053295  3.854060   \n",
       "\n",
       "      leverage  conviction  \n",
       "2558  0.003988    1.190407  \n",
       "2021  0.004360    1.066171  \n",
       "1313  0.005243    1.051406  \n",
       "2042  0.004225    1.101338  \n",
       "2206  0.004141    1.041688  "
      ]
     },
     "execution_count": 47,
     "metadata": {},
     "output_type": "execute_result"
    }
   ],
   "source": [
    "final_rules.head() #Top 5 lift-ratio rules"
   ]
  },
  {
   "cell_type": "code",
   "execution_count": 48,
   "metadata": {},
   "outputs": [
    {
     "data": {
      "text/html": [
       "<div>\n",
       "<style scoped>\n",
       "    .dataframe tbody tr th:only-of-type {\n",
       "        vertical-align: middle;\n",
       "    }\n",
       "\n",
       "    .dataframe tbody tr th {\n",
       "        vertical-align: top;\n",
       "    }\n",
       "\n",
       "    .dataframe thead th {\n",
       "        text-align: right;\n",
       "    }\n",
       "</style>\n",
       "<table border=\"1\" class=\"dataframe\">\n",
       "  <thead>\n",
       "    <tr style=\"text-align: right;\">\n",
       "      <th></th>\n",
       "      <th>antecedents</th>\n",
       "      <th>consequents</th>\n",
       "      <th>antecedent support</th>\n",
       "      <th>consequent support</th>\n",
       "      <th>support</th>\n",
       "      <th>confidence</th>\n",
       "      <th>lift</th>\n",
       "      <th>leverage</th>\n",
       "      <th>conviction</th>\n",
       "    </tr>\n",
       "  </thead>\n",
       "  <tbody>\n",
       "    <tr>\n",
       "      <th>2198</th>\n",
       "      <td>(other vegetables)</td>\n",
       "      <td>(misc. beverages)</td>\n",
       "      <td>0.193493</td>\n",
       "      <td>0.028368</td>\n",
       "      <td>0.005592</td>\n",
       "      <td>0.028902</td>\n",
       "      <td>1.018812</td>\n",
       "      <td>1.032594e-04</td>\n",
       "      <td>1.000550</td>\n",
       "    </tr>\n",
       "    <tr>\n",
       "      <th>316</th>\n",
       "      <td>(soda)</td>\n",
       "      <td>(pip fruit)</td>\n",
       "      <td>0.174377</td>\n",
       "      <td>0.075648</td>\n",
       "      <td>0.013320</td>\n",
       "      <td>0.076385</td>\n",
       "      <td>1.009738</td>\n",
       "      <td>1.284540e-04</td>\n",
       "      <td>1.000798</td>\n",
       "    </tr>\n",
       "    <tr>\n",
       "      <th>466</th>\n",
       "      <td>(shopping bags)</td>\n",
       "      <td>(bottled water)</td>\n",
       "      <td>0.098526</td>\n",
       "      <td>0.110524</td>\n",
       "      <td>0.010981</td>\n",
       "      <td>0.111455</td>\n",
       "      <td>1.008428</td>\n",
       "      <td>9.177354e-05</td>\n",
       "      <td>1.001048</td>\n",
       "    </tr>\n",
       "    <tr>\n",
       "      <th>275</th>\n",
       "      <td>(pip fruit)</td>\n",
       "      <td>(rolls/buns)</td>\n",
       "      <td>0.075648</td>\n",
       "      <td>0.183935</td>\n",
       "      <td>0.013930</td>\n",
       "      <td>0.184140</td>\n",
       "      <td>1.001114</td>\n",
       "      <td>1.549719e-05</td>\n",
       "      <td>1.000251</td>\n",
       "    </tr>\n",
       "    <tr>\n",
       "      <th>2177</th>\n",
       "      <td>(specialty chocolate)</td>\n",
       "      <td>(rolls/buns)</td>\n",
       "      <td>0.030402</td>\n",
       "      <td>0.183935</td>\n",
       "      <td>0.005592</td>\n",
       "      <td>0.183946</td>\n",
       "      <td>1.000063</td>\n",
       "      <td>3.515039e-07</td>\n",
       "      <td>1.000014</td>\n",
       "    </tr>\n",
       "  </tbody>\n",
       "</table>\n",
       "</div>"
      ],
      "text/plain": [
       "                antecedents        consequents  antecedent support  \\\n",
       "2198     (other vegetables)  (misc. beverages)            0.193493   \n",
       "316                  (soda)        (pip fruit)            0.174377   \n",
       "466         (shopping bags)    (bottled water)            0.098526   \n",
       "275             (pip fruit)       (rolls/buns)            0.075648   \n",
       "2177  (specialty chocolate)       (rolls/buns)            0.030402   \n",
       "\n",
       "      consequent support   support  confidence      lift      leverage  \\\n",
       "2198            0.028368  0.005592    0.028902  1.018812  1.032594e-04   \n",
       "316             0.075648  0.013320    0.076385  1.009738  1.284540e-04   \n",
       "466             0.110524  0.010981    0.111455  1.008428  9.177354e-05   \n",
       "275             0.183935  0.013930    0.184140  1.001114  1.549719e-05   \n",
       "2177            0.183935  0.005592    0.183946  1.000063  3.515039e-07   \n",
       "\n",
       "      conviction  \n",
       "2198    1.000550  \n",
       "316     1.000798  \n",
       "466     1.001048  \n",
       "275     1.000251  \n",
       "2177    1.000014  "
      ]
     },
     "execution_count": 48,
     "metadata": {},
     "output_type": "execute_result"
    }
   ],
   "source": [
    "final_rules.tail()  #Least 5 lift-ratio rules"
   ]
  },
  {
   "cell_type": "code",
   "execution_count": null,
   "metadata": {},
   "outputs": [],
   "source": []
  },
  {
   "cell_type": "code",
   "execution_count": null,
   "metadata": {},
   "outputs": [],
   "source": []
  }
 ],
 "metadata": {
  "kernelspec": {
   "display_name": "Python 3",
   "language": "python",
   "name": "python3"
  },
  "language_info": {
   "codemirror_mode": {
    "name": "ipython",
    "version": 3
   },
   "file_extension": ".py",
   "mimetype": "text/x-python",
   "name": "python",
   "nbconvert_exporter": "python",
   "pygments_lexer": "ipython3",
   "version": "3.8.5"
  }
 },
 "nbformat": 4,
 "nbformat_minor": 4
}
