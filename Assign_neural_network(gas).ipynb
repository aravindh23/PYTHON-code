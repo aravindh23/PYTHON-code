{
 "cells": [
  {
   "cell_type": "code",
   "execution_count": 2,
   "metadata": {},
   "outputs": [],
   "source": [
    "import pandas as pd\n",
    "import numpy as np"
   ]
  },
  {
   "cell_type": "code",
   "execution_count": 3,
   "metadata": {},
   "outputs": [],
   "source": [
    "df = pd.read_csv(\"C:/Users/ARAVINDH/Downloads/gas_turbines.csv\")"
   ]
  },
  {
   "cell_type": "code",
   "execution_count": 4,
   "metadata": {},
   "outputs": [
    {
     "data": {
      "text/html": [
       "<div>\n",
       "<style scoped>\n",
       "    .dataframe tbody tr th:only-of-type {\n",
       "        vertical-align: middle;\n",
       "    }\n",
       "\n",
       "    .dataframe tbody tr th {\n",
       "        vertical-align: top;\n",
       "    }\n",
       "\n",
       "    .dataframe thead th {\n",
       "        text-align: right;\n",
       "    }\n",
       "</style>\n",
       "<table border=\"1\" class=\"dataframe\">\n",
       "  <thead>\n",
       "    <tr style=\"text-align: right;\">\n",
       "      <th></th>\n",
       "      <th>AT</th>\n",
       "      <th>AP</th>\n",
       "      <th>AH</th>\n",
       "      <th>AFDP</th>\n",
       "      <th>GTEP</th>\n",
       "      <th>TIT</th>\n",
       "      <th>TAT</th>\n",
       "      <th>TEY</th>\n",
       "      <th>CDP</th>\n",
       "      <th>CO</th>\n",
       "      <th>NOX</th>\n",
       "    </tr>\n",
       "  </thead>\n",
       "  <tbody>\n",
       "    <tr>\n",
       "      <th>0</th>\n",
       "      <td>6.8594</td>\n",
       "      <td>1007.9</td>\n",
       "      <td>96.799</td>\n",
       "      <td>3.5000</td>\n",
       "      <td>19.663</td>\n",
       "      <td>1059.2</td>\n",
       "      <td>550.00</td>\n",
       "      <td>114.70</td>\n",
       "      <td>10.605</td>\n",
       "      <td>3.1547</td>\n",
       "      <td>82.722</td>\n",
       "    </tr>\n",
       "    <tr>\n",
       "      <th>1</th>\n",
       "      <td>6.7850</td>\n",
       "      <td>1008.4</td>\n",
       "      <td>97.118</td>\n",
       "      <td>3.4998</td>\n",
       "      <td>19.728</td>\n",
       "      <td>1059.3</td>\n",
       "      <td>550.00</td>\n",
       "      <td>114.72</td>\n",
       "      <td>10.598</td>\n",
       "      <td>3.2363</td>\n",
       "      <td>82.776</td>\n",
       "    </tr>\n",
       "    <tr>\n",
       "      <th>2</th>\n",
       "      <td>6.8977</td>\n",
       "      <td>1008.8</td>\n",
       "      <td>95.939</td>\n",
       "      <td>3.4824</td>\n",
       "      <td>19.779</td>\n",
       "      <td>1059.4</td>\n",
       "      <td>549.87</td>\n",
       "      <td>114.71</td>\n",
       "      <td>10.601</td>\n",
       "      <td>3.2012</td>\n",
       "      <td>82.468</td>\n",
       "    </tr>\n",
       "  </tbody>\n",
       "</table>\n",
       "</div>"
      ],
      "text/plain": [
       "       AT      AP      AH    AFDP    GTEP     TIT     TAT     TEY     CDP  \\\n",
       "0  6.8594  1007.9  96.799  3.5000  19.663  1059.2  550.00  114.70  10.605   \n",
       "1  6.7850  1008.4  97.118  3.4998  19.728  1059.3  550.00  114.72  10.598   \n",
       "2  6.8977  1008.8  95.939  3.4824  19.779  1059.4  549.87  114.71  10.601   \n",
       "\n",
       "       CO     NOX  \n",
       "0  3.1547  82.722  \n",
       "1  3.2363  82.776  \n",
       "2  3.2012  82.468  "
      ]
     },
     "execution_count": 4,
     "metadata": {},
     "output_type": "execute_result"
    }
   ],
   "source": [
    "df.head(3)"
   ]
  },
  {
   "cell_type": "code",
   "execution_count": 5,
   "metadata": {},
   "outputs": [
    {
     "data": {
      "text/plain": [
       "AT      0\n",
       "AP      0\n",
       "AH      0\n",
       "AFDP    0\n",
       "GTEP    0\n",
       "TIT     0\n",
       "TAT     0\n",
       "TEY     0\n",
       "CDP     0\n",
       "CO      0\n",
       "NOX     0\n",
       "dtype: int64"
      ]
     },
     "execution_count": 5,
     "metadata": {},
     "output_type": "execute_result"
    }
   ],
   "source": [
    "df.isna().sum()"
   ]
  },
  {
   "cell_type": "code",
   "execution_count": 6,
   "metadata": {},
   "outputs": [],
   "source": [
    "from keras.layers import Dense, Activation\n",
    "from keras.models import Sequential\n",
    "from sklearn.model_selection import train_test_split\n",
    "import matplotlib.pyplot as plt"
   ]
  },
  {
   "cell_type": "code",
   "execution_count": 7,
   "metadata": {},
   "outputs": [],
   "source": [
    "X = df.iloc[:,0:3]\n",
    "y = df.iloc[:,7]"
   ]
  },
  {
   "cell_type": "code",
   "execution_count": 9,
   "metadata": {},
   "outputs": [
    {
     "data": {
      "text/plain": [
       "AT    float64\n",
       "AP    float64\n",
       "AH    float64\n",
       "dtype: object"
      ]
     },
     "execution_count": 9,
     "metadata": {},
     "output_type": "execute_result"
    }
   ],
   "source": [
    "X.dtypes"
   ]
  },
  {
   "cell_type": "code",
   "execution_count": 10,
   "metadata": {},
   "outputs": [
    {
     "data": {
      "text/plain": [
       "0        114.70\n",
       "1        114.72\n",
       "2        114.71\n",
       "3        114.72\n",
       "4        114.72\n",
       "          ...  \n",
       "15034    111.61\n",
       "15035    111.78\n",
       "15036    110.19\n",
       "15037    110.74\n",
       "15038    111.58\n",
       "Name: TEY, Length: 15039, dtype: float64"
      ]
     },
     "execution_count": 10,
     "metadata": {},
     "output_type": "execute_result"
    }
   ],
   "source": [
    "y"
   ]
  },
  {
   "cell_type": "code",
   "execution_count": 11,
   "metadata": {},
   "outputs": [],
   "source": [
    "X_train, X_test, y_train, y_test = train_test_split(X,y,test_size = 0.25, random_state = 0)"
   ]
  },
  {
   "cell_type": "code",
   "execution_count": 12,
   "metadata": {},
   "outputs": [],
   "source": [
    "from sklearn.preprocessing import StandardScaler\n",
    "sc = StandardScaler()"
   ]
  },
  {
   "cell_type": "code",
   "execution_count": 13,
   "metadata": {},
   "outputs": [],
   "source": [
    "X_train = sc.fit_transform(X_train)\n",
    "X_test = sc.transform(X_test)"
   ]
  },
  {
   "cell_type": "code",
   "execution_count": 14,
   "metadata": {},
   "outputs": [],
   "source": [
    "model = Sequential()\n",
    "#Adding the input layer and the first hidden layer\n",
    "model.add(Dense(32, activation='relu', input_dim = 3))\n",
    "\n",
    "#Adding the second hidden layer\n",
    "model.add(Dense(32, activation='relu'))\n",
    "\n",
    "#Adding the third hidden layer\n",
    "model.add(Dense(32, activation='relu'))"
   ]
  },
  {
   "cell_type": "code",
   "execution_count": 15,
   "metadata": {},
   "outputs": [],
   "source": [
    "#Adding the output layer\n",
    "model.add(Dense(1))"
   ]
  },
  {
   "cell_type": "code",
   "execution_count": 16,
   "metadata": {},
   "outputs": [
    {
     "name": "stdout",
     "output_type": "stream",
     "text": [
      "Epoch 1/100\n",
      "1128/1128 [==============================] - 3s 2ms/step - loss: 5995.8575\n",
      "Epoch 2/100\n",
      "1128/1128 [==============================] - 2s 2ms/step - loss: 244.5405\n",
      "Epoch 3/100\n",
      "1128/1128 [==============================] - 2s 2ms/step - loss: 226.2567\n",
      "Epoch 4/100\n",
      "1128/1128 [==============================] - 2s 2ms/step - loss: 219.3057\n",
      "Epoch 5/100\n",
      "1128/1128 [==============================] - 2s 2ms/step - loss: 218.1504\n",
      "Epoch 6/100\n",
      "1128/1128 [==============================] - 2s 2ms/step - loss: 217.3845\n",
      "Epoch 7/100\n",
      "1128/1128 [==============================] - 2s 2ms/step - loss: 216.8979\n",
      "Epoch 8/100\n",
      "1128/1128 [==============================] - 2s 2ms/step - loss: 212.8196\n",
      "Epoch 9/100\n",
      "1128/1128 [==============================] - 2s 2ms/step - loss: 215.7043\n",
      "Epoch 10/100\n",
      "1128/1128 [==============================] - 2s 2ms/step - loss: 213.6235\n",
      "Epoch 11/100\n",
      "1128/1128 [==============================] - 2s 2ms/step - loss: 214.7729\n",
      "Epoch 12/100\n",
      "1128/1128 [==============================] - 2s 2ms/step - loss: 214.4605\n",
      "Epoch 13/100\n",
      "1128/1128 [==============================] - 2s 2ms/step - loss: 212.2670\n",
      "Epoch 14/100\n",
      "1128/1128 [==============================] - 2s 2ms/step - loss: 217.1144\n",
      "Epoch 15/100\n",
      "1128/1128 [==============================] - 2s 2ms/step - loss: 211.0611\n",
      "Epoch 16/100\n",
      "1128/1128 [==============================] - 2s 2ms/step - loss: 211.7189\n",
      "Epoch 17/100\n",
      "1128/1128 [==============================] - 2s 2ms/step - loss: 215.3501\n",
      "Epoch 18/100\n",
      "1128/1128 [==============================] - 2s 2ms/step - loss: 212.8728\n",
      "Epoch 19/100\n",
      "1128/1128 [==============================] - 2s 2ms/step - loss: 212.4891\n",
      "Epoch 20/100\n",
      "1128/1128 [==============================] - 2s 2ms/step - loss: 213.5339\n",
      "Epoch 21/100\n",
      "1128/1128 [==============================] - 2s 2ms/step - loss: 207.3917\n",
      "Epoch 22/100\n",
      "1128/1128 [==============================] - 2s 2ms/step - loss: 212.0825\n",
      "Epoch 23/100\n",
      "1128/1128 [==============================] - 2s 2ms/step - loss: 210.5378\n",
      "Epoch 24/100\n",
      "1128/1128 [==============================] - 2s 2ms/step - loss: 212.7830\n",
      "Epoch 25/100\n",
      "1128/1128 [==============================] - 2s 2ms/step - loss: 215.3646\n",
      "Epoch 26/100\n",
      "1128/1128 [==============================] - 2s 2ms/step - loss: 209.4576\n",
      "Epoch 27/100\n",
      "1128/1128 [==============================] - 2s 2ms/step - loss: 213.5396\n",
      "Epoch 28/100\n",
      "1128/1128 [==============================] - 2s 2ms/step - loss: 214.2061\n",
      "Epoch 29/100\n",
      "1128/1128 [==============================] - 2s 2ms/step - loss: 215.8275\n",
      "Epoch 30/100\n",
      "1128/1128 [==============================] - 2s 2ms/step - loss: 215.3375\n",
      "Epoch 31/100\n",
      "1128/1128 [==============================] - 2s 2ms/step - loss: 209.4307\n",
      "Epoch 32/100\n",
      "1128/1128 [==============================] - 2s 2ms/step - loss: 212.3566\n",
      "Epoch 33/100\n",
      "1128/1128 [==============================] - 2s 2ms/step - loss: 211.1320\n",
      "Epoch 34/100\n",
      "1128/1128 [==============================] - 2s 2ms/step - loss: 212.0179\n",
      "Epoch 35/100\n",
      "1128/1128 [==============================] - 2s 2ms/step - loss: 210.5998\n",
      "Epoch 36/100\n",
      "1128/1128 [==============================] - 2s 2ms/step - loss: 212.4714\n",
      "Epoch 37/100\n",
      "1128/1128 [==============================] - 2s 2ms/step - loss: 208.2027\n",
      "Epoch 38/100\n",
      "1128/1128 [==============================] - 2s 2ms/step - loss: 212.3674\n",
      "Epoch 39/100\n",
      "1128/1128 [==============================] - 2s 2ms/step - loss: 211.6770\n",
      "Epoch 40/100\n",
      "1128/1128 [==============================] - 2s 2ms/step - loss: 205.9803\n",
      "Epoch 41/100\n",
      "1128/1128 [==============================] - 2s 2ms/step - loss: 210.2790\n",
      "Epoch 42/100\n",
      "1128/1128 [==============================] - 2s 2ms/step - loss: 208.5968\n",
      "Epoch 43/100\n",
      "1128/1128 [==============================] - 2s 2ms/step - loss: 213.9123\n",
      "Epoch 44/100\n",
      "1128/1128 [==============================] - 2s 2ms/step - loss: 213.5100\n",
      "Epoch 45/100\n",
      "1128/1128 [==============================] - 2s 2ms/step - loss: 213.1924\n",
      "Epoch 46/100\n",
      "1128/1128 [==============================] - 2s 2ms/step - loss: 207.4026\n",
      "Epoch 47/100\n",
      "1128/1128 [==============================] - 2s 2ms/step - loss: 212.4578\n",
      "Epoch 48/100\n",
      "1128/1128 [==============================] - 2s 2ms/step - loss: 208.5410\n",
      "Epoch 49/100\n",
      "1128/1128 [==============================] - 2s 2ms/step - loss: 210.7918\n",
      "Epoch 50/100\n",
      "1128/1128 [==============================] - 2s 2ms/step - loss: 202.7518\n",
      "Epoch 51/100\n",
      "1128/1128 [==============================] - 2s 2ms/step - loss: 210.7055\n",
      "Epoch 52/100\n",
      "1128/1128 [==============================] - 2s 2ms/step - loss: 213.3202\n",
      "Epoch 53/100\n",
      "1128/1128 [==============================] - 2s 2ms/step - loss: 209.9074\n",
      "Epoch 54/100\n",
      "1128/1128 [==============================] - 2s 2ms/step - loss: 215.9262\n",
      "Epoch 55/100\n",
      "1128/1128 [==============================] - 2s 2ms/step - loss: 207.2883\n",
      "Epoch 56/100\n",
      "1128/1128 [==============================] - 2s 2ms/step - loss: 210.4393\n",
      "Epoch 57/100\n",
      "1128/1128 [==============================] - 2s 2ms/step - loss: 209.3438\n",
      "Epoch 58/100\n",
      "1128/1128 [==============================] - 2s 2ms/step - loss: 214.2816\n",
      "Epoch 59/100\n",
      "1128/1128 [==============================] - 2s 2ms/step - loss: 213.2509\n",
      "Epoch 60/100\n",
      "1128/1128 [==============================] - 2s 2ms/step - loss: 209.0326\n",
      "Epoch 61/100\n",
      "1128/1128 [==============================] - 2s 2ms/step - loss: 206.0205\n",
      "Epoch 62/100\n",
      "1128/1128 [==============================] - 2s 2ms/step - loss: 213.9584\n",
      "Epoch 63/100\n",
      "1128/1128 [==============================] - 2s 2ms/step - loss: 210.2778\n",
      "Epoch 64/100\n",
      "1128/1128 [==============================] - 2s 2ms/step - loss: 207.2509\n",
      "Epoch 65/100\n",
      "1128/1128 [==============================] - 2s 2ms/step - loss: 209.9230\n",
      "Epoch 66/100\n",
      "1128/1128 [==============================] - 2s 2ms/step - loss: 214.1172\n",
      "Epoch 67/100\n",
      "1128/1128 [==============================] - 2s 2ms/step - loss: 214.7838\n",
      "Epoch 68/100\n",
      "1128/1128 [==============================] - 2s 2ms/step - loss: 209.8829\n",
      "Epoch 69/100\n",
      "1128/1128 [==============================] - 2s 2ms/step - loss: 211.2536\n",
      "Epoch 70/100\n",
      "1128/1128 [==============================] - 2s 2ms/step - loss: 210.8460\n",
      "Epoch 71/100\n",
      "1128/1128 [==============================] - 2s 2ms/step - loss: 209.2168\n",
      "Epoch 72/100\n",
      "1128/1128 [==============================] - 2s 2ms/step - loss: 210.1310\n",
      "Epoch 73/100\n",
      "1128/1128 [==============================] - 2s 2ms/step - loss: 210.0409\n",
      "Epoch 74/100\n",
      "1128/1128 [==============================] - 2s 2ms/step - loss: 210.5622\n",
      "Epoch 75/100\n",
      "1128/1128 [==============================] - 2s 2ms/step - loss: 208.1699\n",
      "Epoch 76/100\n",
      "1128/1128 [==============================] - 2s 2ms/step - loss: 211.8416\n",
      "Epoch 77/100\n",
      "1128/1128 [==============================] - 2s 2ms/step - loss: 206.7978\n",
      "Epoch 78/100\n",
      "1128/1128 [==============================] - 2s 2ms/step - loss: 207.7747\n",
      "Epoch 79/100\n",
      "1128/1128 [==============================] - 2s 2ms/step - loss: 208.8522\n",
      "Epoch 80/100\n",
      "1128/1128 [==============================] - 2s 2ms/step - loss: 204.8698\n",
      "Epoch 81/100\n",
      "1128/1128 [==============================] - 2s 2ms/step - loss: 212.3350\n",
      "Epoch 82/100\n",
      "1128/1128 [==============================] - 2s 2ms/step - loss: 208.0104\n",
      "Epoch 83/100\n",
      "1128/1128 [==============================] - 2s 2ms/step - loss: 207.5259\n",
      "Epoch 84/100\n",
      "1128/1128 [==============================] - 2s 2ms/step - loss: 212.8057\n",
      "Epoch 85/100\n",
      "1128/1128 [==============================] - 2s 2ms/step - loss: 208.9874\n",
      "Epoch 86/100\n",
      "1128/1128 [==============================] - 2s 2ms/step - loss: 212.7943\n",
      "Epoch 87/100\n",
      "1128/1128 [==============================] - 2s 2ms/step - loss: 209.1212\n",
      "Epoch 88/100\n",
      "1128/1128 [==============================] - 2s 2ms/step - loss: 213.5425\n",
      "Epoch 89/100\n",
      "1128/1128 [==============================] - 2s 2ms/step - loss: 205.6296\n",
      "Epoch 90/100\n",
      "1128/1128 [==============================] - 2s 2ms/step - loss: 207.7385\n",
      "Epoch 91/100\n",
      "1128/1128 [==============================] - 2s 2ms/step - loss: 208.9035\n",
      "Epoch 92/100\n",
      "1128/1128 [==============================] - 2s 2ms/step - loss: 214.2407\n",
      "Epoch 93/100\n",
      "1128/1128 [==============================] - 2s 2ms/step - loss: 211.3514\n",
      "Epoch 94/100\n",
      "1128/1128 [==============================] - 2s 2ms/step - loss: 207.9543\n",
      "Epoch 95/100\n"
     ]
    },
    {
     "name": "stdout",
     "output_type": "stream",
     "text": [
      "1128/1128 [==============================] - 2s 2ms/step - loss: 208.3551\n",
      "Epoch 96/100\n",
      "1128/1128 [==============================] - 2s 2ms/step - loss: 211.9307\n",
      "Epoch 97/100\n",
      "1128/1128 [==============================] - 2s 2ms/step - loss: 209.2998\n",
      "Epoch 98/100\n",
      "1128/1128 [==============================] - 2s 2ms/step - loss: 207.8022\n",
      "Epoch 99/100\n",
      "1128/1128 [==============================] - 2s 2ms/step - loss: 209.1198\n",
      "Epoch 100/100\n",
      "1128/1128 [==============================] - 2s 2ms/step - loss: 210.7849\n"
     ]
    },
    {
     "data": {
      "text/plain": [
       "<tensorflow.python.keras.callbacks.History at 0x2280aa88be0>"
      ]
     },
     "execution_count": 16,
     "metadata": {},
     "output_type": "execute_result"
    }
   ],
   "source": [
    "#Compiling the ANN\n",
    "model.compile(optimizer='adam', loss='mean_squared_error')\n",
    "\n",
    "model.fit(X_train, y_train, batch_size=10, epochs=100)"
   ]
  },
  {
   "cell_type": "code",
   "execution_count": 19,
   "metadata": {},
   "outputs": [
    {
     "data": {
      "text/plain": [
       "array([[134.09683],\n",
       "       [139.67401],\n",
       "       [133.59825],\n",
       "       ...,\n",
       "       [128.732  ],\n",
       "       [143.3064 ],\n",
       "       [134.73003]], dtype=float32)"
      ]
     },
     "execution_count": 19,
     "metadata": {},
     "output_type": "execute_result"
    }
   ],
   "source": [
    "y_pred = model.predict(X_test)\n",
    "y_pred"
   ]
  },
  {
   "cell_type": "code",
   "execution_count": 18,
   "metadata": {},
   "outputs": [
    {
     "data": {
      "image/png": "[encoded data removed]",
      "text/plain": [
       "<Figure size 432x288 with 1 Axes>"
      ]
     },
     "metadata": {
      "needs_background": "light"
     },
     "output_type": "display_data"
    }
   ],
   "source": [
    "plt.plot(y_test, color='red', label='Real data')\n",
    "plt.plot(y_pred, color='blue', label='Predicted data')\n",
    "plt.title('Prediction')\n",
    "plt.legend()\n",
    "plt.show()"
   ]
  },
  {
   "cell_type": "code",
   "execution_count": null,
   "metadata": {},
   "outputs": [],
   "source": []
  }
 ],
 "metadata": {
  "kernelspec": {
   "display_name": "Python 3",
   "language": "python",
   "name": "python3"
  },
  "language_info": {
   "codemirror_mode": {
    "name": "ipython",
    "version": 3
   },
   "file_extension": ".py",
   "mimetype": "text/x-python",
   "name": "python",
   "nbconvert_exporter": "python",
   "pygments_lexer": "ipython3",
   "version": "3.8.5"
  }
 },
 "nbformat": 4,
 "nbformat_minor": 4
}
