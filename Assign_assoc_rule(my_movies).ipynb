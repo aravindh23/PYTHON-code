{
 "cells": [
  {
   "cell_type": "code",
   "execution_count": 1,
   "metadata": {},
   "outputs": [],
   "source": [
    "import pandas as pd\n",
    "import matplotlib.pyplot as plt\n",
    "from mlxtend.frequent_patterns import apriori,association_rules\n",
    "from mlxtend.preprocessing import TransactionEncoder\n",
    "from collections import Counter"
   ]
  },
  {
   "cell_type": "code",
   "execution_count": 3,
   "metadata": {},
   "outputs": [],
   "source": [
    "movies=[]\n",
    "with open(\"C:/Users/ARAVINDH/Downloads/my_movies.csv\") as f:\n",
    "    movies_it=f.read()"
   ]
  },
  {
   "cell_type": "code",
   "execution_count": 4,
   "metadata": {},
   "outputs": [],
   "source": [
    "movies_it=movies_it.split(\"\\n\")"
   ]
  },
  {
   "cell_type": "code",
   "execution_count": 5,
   "metadata": {},
   "outputs": [],
   "source": [
    "movies_list=[]"
   ]
  },
  {
   "cell_type": "code",
   "execution_count": 6,
   "metadata": {},
   "outputs": [],
   "source": [
    "for i in movies_it:\n",
    "    movies_list.append(i.split(\",\"))"
   ]
  },
  {
   "cell_type": "code",
   "execution_count": 7,
   "metadata": {},
   "outputs": [],
   "source": [
    "all_movies_list=[]\n",
    "all_movies_list=[i for item in movies_list for i in item]"
   ]
  },
  {
   "cell_type": "code",
   "execution_count": 8,
   "metadata": {},
   "outputs": [],
   "source": [
    "item_frequencies=Counter(all_movies_list)"
   ]
  },
  {
   "cell_type": "code",
   "execution_count": 9,
   "metadata": {},
   "outputs": [],
   "source": [
    "item_frequencies=sorted(item_frequencies.items(),key=lambda x:x[1])"
   ]
  },
  {
   "cell_type": "code",
   "execution_count": 10,
   "metadata": {},
   "outputs": [],
   "source": [
    "frequencies = list(reversed([i[1] for i in item_frequencies]))"
   ]
  },
  {
   "cell_type": "code",
   "execution_count": 11,
   "metadata": {},
   "outputs": [
    {
     "data": {
      "text/plain": [
       "[70, 30, 20, 8, 7, 7, 3, 3, 3, 3, 2, 2, 2, 1, 1, 1, 1, 1, 1]"
      ]
     },
     "execution_count": 11,
     "metadata": {},
     "output_type": "execute_result"
    }
   ],
   "source": [
    "frequencies"
   ]
  },
  {
   "cell_type": "code",
   "execution_count": 12,
   "metadata": {},
   "outputs": [],
   "source": [
    "items = list(reversed([i[0] for i in item_frequencies]))"
   ]
  },
  {
   "cell_type": "code",
   "execution_count": 13,
   "metadata": {},
   "outputs": [
    {
     "data": {
      "text/plain": [
       "['0',\n",
       " '1',\n",
       " '\"\"',\n",
       " '\"Gladiator\"',\n",
       " '\"Patriot\"',\n",
       " '\"Sixth Sense\"',\n",
       " '\"Green Mile\"',\n",
       " '\"LOTR2\"',\n",
       " '\"Harry Potter1\"',\n",
       " '\"LOTR1\"',\n",
       " '\"Braveheart\"',\n",
       " '\"LOTR\"',\n",
       " '\"Harry Potter2\"',\n",
       " '',\n",
       " '\"V5\"',\n",
       " '\"V4\"',\n",
       " '\"V3\"',\n",
       " '\"V2\"',\n",
       " '\"V1\"']"
      ]
     },
     "execution_count": 13,
     "metadata": {},
     "output_type": "execute_result"
    }
   ],
   "source": [
    "items"
   ]
  },
  {
   "cell_type": "code",
   "execution_count": null,
   "metadata": {},
   "outputs": [],
   "source": [
    "#Bar plot"
   ]
  },
  {
   "cell_type": "code",
   "execution_count": 15,
   "metadata": {},
   "outputs": [
    {
     "name": "stderr",
     "output_type": "stream",
     "text": [
      "<ipython-input-15-f633279b04eb>:1: MatplotlibDeprecationWarning: Using a string of single character colors as a color sequence is deprecated since 3.2 and will be removed two minor releases later. Use an explicit list instead.\n",
      "  plt.bar(height = frequencies[1:],x = list(range(0,18)),color='rgb');plt.xticks(list(range(0,18),),items[1:]);plt.xlabel(\"items\")\n"
     ]
    },
    {
     "data": {
      "text/plain": [
       "Text(0, 0.5, 'Count')"
      ]
     },
     "execution_count": 15,
     "metadata": {},
     "output_type": "execute_result"
    },
    {
     "data": {
      "image/png": "[encoded data removed]",
      "text/plain": [
       "<Figure size 432x288 with 1 Axes>"
      ]
     },
     "metadata": {
      "needs_background": "light"
     },
     "output_type": "display_data"
    }
   ],
   "source": [
    "plt.bar(height = frequencies[1:],x = list(range(0,18)),color='rgb');plt.xticks(list(range(0,18),),items[1:]);plt.xlabel(\"items\")\n",
    "plt.ylabel(\"Count\")"
   ]
  },
  {
   "cell_type": "code",
   "execution_count": 20,
   "metadata": {},
   "outputs": [],
   "source": [
    "movies_series  = pd.DataFrame(pd.Series(movies_list))\n",
    "movies_series.columns = [\"transactions\"]"
   ]
  },
  {
   "cell_type": "code",
   "execution_count": 22,
   "metadata": {},
   "outputs": [],
   "source": [
    "x = movies_series['transactions'].str.join(sep='*').str.get_dummies(sep='*')"
   ]
  },
  {
   "cell_type": "code",
   "execution_count": 23,
   "metadata": {},
   "outputs": [],
   "source": [
    "frequent_itemsets = apriori(X, min_support=0.005, max_len=3,use_colnames = True)"
   ]
  },
  {
   "cell_type": "code",
   "execution_count": 24,
   "metadata": {},
   "outputs": [
    {
     "data": {
      "text/plain": [
       "(694, 2)"
      ]
     },
     "execution_count": 24,
     "metadata": {},
     "output_type": "execute_result"
    }
   ],
   "source": [
    "frequent_itemsets.shape"
   ]
  },
  {
   "cell_type": "code",
   "execution_count": null,
   "metadata": {},
   "outputs": [],
   "source": [
    "#most frequent items(Support)"
   ]
  },
  {
   "cell_type": "code",
   "execution_count": 25,
   "metadata": {},
   "outputs": [],
   "source": [
    "frequent_itemsets.sort_values('support',ascending = False,inplace=True)"
   ]
  },
  {
   "cell_type": "code",
   "execution_count": 27,
   "metadata": {},
   "outputs": [
    {
     "data": {
      "text/plain": [
       "(3154, 9)"
      ]
     },
     "execution_count": 27,
     "metadata": {},
     "output_type": "execute_result"
    }
   ],
   "source": [
    "rules = association_rules(frequent_itemsets, metric=\"lift\", min_threshold=1)\n",
    "rules.shape"
   ]
  },
  {
   "cell_type": "code",
   "execution_count": 36,
   "metadata": {},
   "outputs": [],
   "source": [
    "def to_list(i):\n",
    "    return (sorted(list(i)))"
   ]
  },
  {
   "cell_type": "code",
   "execution_count": 37,
   "metadata": {},
   "outputs": [],
   "source": [
    "ma_X = rules.antecedents.apply(to_list)+rules.consequents.apply(to_list)"
   ]
  },
  {
   "cell_type": "code",
   "execution_count": 38,
   "metadata": {},
   "outputs": [],
   "source": [
    "ma_X = ma_X.apply(sorted)"
   ]
  },
  {
   "cell_type": "code",
   "execution_count": 39,
   "metadata": {},
   "outputs": [],
   "source": [
    "rules_sets = list(ma_X)"
   ]
  },
  {
   "cell_type": "code",
   "execution_count": 40,
   "metadata": {},
   "outputs": [],
   "source": [
    "unique_rules_sets = [list(m) for m in set(tuple(i) for i in rules_sets)]\n",
    "index_rules = []\n",
    "for i in unique_rules_sets:\n",
    "    index_rules.append(rules_sets.index(i))"
   ]
  },
  {
   "cell_type": "code",
   "execution_count": 41,
   "metadata": {},
   "outputs": [],
   "source": [
    "rules_no_redudancy  = rules.iloc[index_rules,:]"
   ]
  },
  {
   "cell_type": "code",
   "execution_count": 43,
   "metadata": {},
   "outputs": [],
   "source": [
    "final_rules=rules_no_redudancy.sort_values('lift',ascending=False)"
   ]
  },
  {
   "cell_type": "code",
   "execution_count": 45,
   "metadata": {},
   "outputs": [
    {
     "data": {
      "text/html": [
       "<div>\n",
       "<style scoped>\n",
       "    .dataframe tbody tr th:only-of-type {\n",
       "        vertical-align: middle;\n",
       "    }\n",
       "\n",
       "    .dataframe tbody tr th {\n",
       "        vertical-align: top;\n",
       "    }\n",
       "\n",
       "    .dataframe thead th {\n",
       "        text-align: right;\n",
       "    }\n",
       "</style>\n",
       "<table border=\"1\" class=\"dataframe\">\n",
       "  <thead>\n",
       "    <tr style=\"text-align: right;\">\n",
       "      <th></th>\n",
       "      <th>antecedents</th>\n",
       "      <th>consequents</th>\n",
       "      <th>antecedent support</th>\n",
       "      <th>consequent support</th>\n",
       "      <th>support</th>\n",
       "      <th>confidence</th>\n",
       "      <th>lift</th>\n",
       "      <th>leverage</th>\n",
       "      <th>conviction</th>\n",
       "    </tr>\n",
       "  </thead>\n",
       "  <tbody>\n",
       "    <tr>\n",
       "      <th>1979</th>\n",
       "      <td>(\"V1\")</td>\n",
       "      <td>(\"V3\")</td>\n",
       "      <td>0.083333</td>\n",
       "      <td>0.083333</td>\n",
       "      <td>0.083333</td>\n",
       "      <td>1.000000</td>\n",
       "      <td>12.000000</td>\n",
       "      <td>0.076389</td>\n",
       "      <td>inf</td>\n",
       "    </tr>\n",
       "    <tr>\n",
       "      <th>3145</th>\n",
       "      <td>(\"V4\")</td>\n",
       "      <td>(\"Braveheart\", \"Sixth Sense\")</td>\n",
       "      <td>0.083333</td>\n",
       "      <td>0.083333</td>\n",
       "      <td>0.083333</td>\n",
       "      <td>1.000000</td>\n",
       "      <td>12.000000</td>\n",
       "      <td>0.076389</td>\n",
       "      <td>inf</td>\n",
       "    </tr>\n",
       "    <tr>\n",
       "      <th>2526</th>\n",
       "      <td>(\"Gladiator\", \"V2\")</td>\n",
       "      <td>(\"V4\")</td>\n",
       "      <td>0.083333</td>\n",
       "      <td>0.083333</td>\n",
       "      <td>0.083333</td>\n",
       "      <td>1.000000</td>\n",
       "      <td>12.000000</td>\n",
       "      <td>0.076389</td>\n",
       "      <td>inf</td>\n",
       "    </tr>\n",
       "    <tr>\n",
       "      <th>1473</th>\n",
       "      <td>(\"V3\")</td>\n",
       "      <td>(\"Patriot\", \"LOTR1\")</td>\n",
       "      <td>0.083333</td>\n",
       "      <td>0.083333</td>\n",
       "      <td>0.083333</td>\n",
       "      <td>1.000000</td>\n",
       "      <td>12.000000</td>\n",
       "      <td>0.076389</td>\n",
       "      <td>inf</td>\n",
       "    </tr>\n",
       "    <tr>\n",
       "      <th>527</th>\n",
       "      <td>(\"Harry Potter2\", \"LOTR1\")</td>\n",
       "      <td>(\"V1\")</td>\n",
       "      <td>0.083333</td>\n",
       "      <td>0.083333</td>\n",
       "      <td>0.083333</td>\n",
       "      <td>1.000000</td>\n",
       "      <td>12.000000</td>\n",
       "      <td>0.076389</td>\n",
       "      <td>inf</td>\n",
       "    </tr>\n",
       "    <tr>\n",
       "      <th>...</th>\n",
       "      <td>...</td>\n",
       "      <td>...</td>\n",
       "      <td>...</td>\n",
       "      <td>...</td>\n",
       "      <td>...</td>\n",
       "      <td>...</td>\n",
       "      <td>...</td>\n",
       "      <td>...</td>\n",
       "      <td>...</td>\n",
       "    </tr>\n",
       "    <tr>\n",
       "      <th>47</th>\n",
       "      <td>(0)</td>\n",
       "      <td>(\"Sixth Sense\")</td>\n",
       "      <td>0.833333</td>\n",
       "      <td>0.583333</td>\n",
       "      <td>0.500000</td>\n",
       "      <td>0.600000</td>\n",
       "      <td>1.028571</td>\n",
       "      <td>0.013889</td>\n",
       "      <td>1.041667</td>\n",
       "    </tr>\n",
       "    <tr>\n",
       "      <th>67</th>\n",
       "      <td>(1)</td>\n",
       "      <td>(\"Sixth Sense\")</td>\n",
       "      <td>0.833333</td>\n",
       "      <td>0.583333</td>\n",
       "      <td>0.500000</td>\n",
       "      <td>0.600000</td>\n",
       "      <td>1.028571</td>\n",
       "      <td>0.013889</td>\n",
       "      <td>1.041667</td>\n",
       "    </tr>\n",
       "    <tr>\n",
       "      <th>65</th>\n",
       "      <td>(0)</td>\n",
       "      <td>(\"Patriot\")</td>\n",
       "      <td>0.833333</td>\n",
       "      <td>0.583333</td>\n",
       "      <td>0.500000</td>\n",
       "      <td>0.600000</td>\n",
       "      <td>1.028571</td>\n",
       "      <td>0.013889</td>\n",
       "      <td>1.041667</td>\n",
       "    </tr>\n",
       "    <tr>\n",
       "      <th>49</th>\n",
       "      <td>(1)</td>\n",
       "      <td>(\"Patriot\")</td>\n",
       "      <td>0.833333</td>\n",
       "      <td>0.583333</td>\n",
       "      <td>0.500000</td>\n",
       "      <td>0.600000</td>\n",
       "      <td>1.028571</td>\n",
       "      <td>0.013889</td>\n",
       "      <td>1.041667</td>\n",
       "    </tr>\n",
       "    <tr>\n",
       "      <th>257</th>\n",
       "      <td>(\"Green Mile\")</td>\n",
       "      <td>(\"Gladiator\")</td>\n",
       "      <td>0.250000</td>\n",
       "      <td>0.666667</td>\n",
       "      <td>0.166667</td>\n",
       "      <td>0.666667</td>\n",
       "      <td>1.000000</td>\n",
       "      <td>0.000000</td>\n",
       "      <td>1.000000</td>\n",
       "    </tr>\n",
       "  </tbody>\n",
       "</table>\n",
       "<p>634 rows × 9 columns</p>\n",
       "</div>"
      ],
      "text/plain": [
       "                     antecedents                    consequents  \\\n",
       "1979                      (\"V1\")                         (\"V3\")   \n",
       "3145                      (\"V4\")  (\"Braveheart\", \"Sixth Sense\")   \n",
       "2526         (\"Gladiator\", \"V2\")                         (\"V4\")   \n",
       "1473                      (\"V3\")           (\"Patriot\", \"LOTR1\")   \n",
       "527   (\"Harry Potter2\", \"LOTR1\")                         (\"V1\")   \n",
       "...                          ...                            ...   \n",
       "47                           (0)                (\"Sixth Sense\")   \n",
       "67                           (1)                (\"Sixth Sense\")   \n",
       "65                           (0)                    (\"Patriot\")   \n",
       "49                           (1)                    (\"Patriot\")   \n",
       "257               (\"Green Mile\")                  (\"Gladiator\")   \n",
       "\n",
       "      antecedent support  consequent support   support  confidence       lift  \\\n",
       "1979            0.083333            0.083333  0.083333    1.000000  12.000000   \n",
       "3145            0.083333            0.083333  0.083333    1.000000  12.000000   \n",
       "2526            0.083333            0.083333  0.083333    1.000000  12.000000   \n",
       "1473            0.083333            0.083333  0.083333    1.000000  12.000000   \n",
       "527             0.083333            0.083333  0.083333    1.000000  12.000000   \n",
       "...                  ...                 ...       ...         ...        ...   \n",
       "47              0.833333            0.583333  0.500000    0.600000   1.028571   \n",
       "67              0.833333            0.583333  0.500000    0.600000   1.028571   \n",
       "65              0.833333            0.583333  0.500000    0.600000   1.028571   \n",
       "49              0.833333            0.583333  0.500000    0.600000   1.028571   \n",
       "257             0.250000            0.666667  0.166667    0.666667   1.000000   \n",
       "\n",
       "      leverage  conviction  \n",
       "1979  0.076389         inf  \n",
       "3145  0.076389         inf  \n",
       "2526  0.076389         inf  \n",
       "1473  0.076389         inf  \n",
       "527   0.076389         inf  \n",
       "...        ...         ...  \n",
       "47    0.013889    1.041667  \n",
       "67    0.013889    1.041667  \n",
       "65    0.013889    1.041667  \n",
       "49    0.013889    1.041667  \n",
       "257   0.000000    1.000000  \n",
       "\n",
       "[634 rows x 9 columns]"
      ]
     },
     "execution_count": 45,
     "metadata": {},
     "output_type": "execute_result"
    }
   ],
   "source": [
    "final_rules   #sorted by lift-ratio"
   ]
  },
  {
   "cell_type": "code",
   "execution_count": null,
   "metadata": {},
   "outputs": [],
   "source": []
  },
  {
   "cell_type": "code",
   "execution_count": null,
   "metadata": {},
   "outputs": [],
   "source": []
  }
 ],
 "metadata": {
  "kernelspec": {
   "display_name": "Python 3",
   "language": "python",
   "name": "python3"
  },
  "language_info": {
   "codemirror_mode": {
    "name": "ipython",
    "version": 3
   },
   "file_extension": ".py",
   "mimetype": "text/x-python",
   "name": "python",
   "nbconvert_exporter": "python",
   "pygments_lexer": "ipython3",
   "version": "3.8.5"
  }
 },
 "nbformat": 4,
 "nbformat_minor": 4
}
